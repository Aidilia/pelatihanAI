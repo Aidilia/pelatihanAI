{
 "cells": [
  {
   "cell_type": "code",
   "execution_count": null,
   "id": "88958d21",
   "metadata": {},
   "outputs": [],
   "source": [
    "import numpy as np\n",
    "import matplotlib.pyplot as plt"
   ]
  },
  {
   "cell_type": "code",
   "execution_count": null,
   "id": "3e60fe20",
   "metadata": {},
   "outputs": [],
   "source": [
    "# 1. Data 30 Siswa kelas XI RPL 1\n",
    "nilai = np.array([70, 90, 70, 90, 80, 65, 80, 90, 90, 60,\n",
    "                  70, 80, 80, 70, 30, 90, 80, 80, 90, 40, \n",
    "                  50, 70, 65, 90, 60, 65, 70, 70, 90, 90])"
   ]
  },
  {
   "cell_type": "code",
   "execution_count": null,
   "id": "8b69b4a0",
   "metadata": {},
   "outputs": [],
   "source": [
    "# 2. Kategorisasi nilai\n",
    "kategori_labels = ['0-25', '26-50', '51-75', '76-100']\n",
    "kategori_counts = [\n",
    "    np.sum((nilai >= 0) & (nilai <= 25)),\n",
    "    np.sum((nilai >= 26) & (nilai <= 50)),\n",
    "    np.sum((nilai >= 51) & (nilai <= 75)),\n",
    "    np.sum((nilai >= 76) & (nilai <= 100))\n",
    "]"
   ]
  },
  {
   "cell_type": "code",
   "execution_count": null,
   "id": "24844c10",
   "metadata": {},
   "outputs": [],
   "source": [
    "# 3. Tiga warna berbeda\n",
    "warna_batang = ['red', 'green', 'blue', 'red']  # 3 warna diulang"
   ]
  },
  {
   "cell_type": "code",
   "execution_count": null,
   "id": "b54b32ea",
   "metadata": {},
   "outputs": [],
   "source": [
    "# 4. Plot grafik\n",
    "plt.figure(figsize=(8, 6))\n",
    "plt.bar(kategori_labels, kategori_counts, color=warna_batang, edgecolor='black')\n",
    "plt.title('Distribusi Nilai Siswa per Kategori')\n",
    "plt.xlabel('Kategori Nilai')\n",
    "plt.ylabel('Jumlah Siswa')\n",
    "plt.grid(axis='y', linestyle='--', alpha=0.7)\n",
    "plt.tight_layout()\n",
    "plt.show()"
   ]
  }
 ],
 "metadata": {
  "jupytext": {
   "cell_metadata_filter": "-all",
   "main_language": "python",
   "notebook_metadata_filter": "-all"
  }
 },
 "nbformat": 4,
 "nbformat_minor": 5
}
